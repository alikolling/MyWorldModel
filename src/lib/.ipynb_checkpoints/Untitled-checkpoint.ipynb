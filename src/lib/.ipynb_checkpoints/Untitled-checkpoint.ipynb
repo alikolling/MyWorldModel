{
 "cells": [
  {
   "cell_type": "code",
   "execution_count": 4,
   "metadata": {},
   "outputs": [],
   "source": [
    "from torch.utils.data import Dataset\n",
    "import torch\n",
    "\n",
    "from consts import *"
   ]
  },
  {
   "cell_type": "code",
   "execution_count": 5,
   "metadata": {},
   "outputs": [],
   "source": [
    "class VAEDataset(Dataset):\n",
    "    \n",
    "    def __init__(self, data_file, root_dir):\n",
    "        \n",
    "        self.root_dir = root_dir\n",
    "        self.data_file = data_file\n",
    "        self.data = torch.load(self.root_dir+self.data_file)\n",
    "        \n",
    "    def __len__(self):\n",
    "        \n",
    "        return len(self.data)\n",
    "    \n",
    "    def __getitem__(self, idx):\n",
    "        \n",
    "        images = torch.Tensor(self.data['observations'])\n",
    "        \n",
    "        return images[idx]"
   ]
  },
  {
   "cell_type": "code",
   "execution_count": 9,
   "metadata": {},
   "outputs": [],
   "source": [
    "class LSTMDataset(Dataset):\n",
    "    \n",
    "    def __init__(self,data_file, root_dir):\n",
    "        \n",
    "        self.root_dir = root_dir\n",
    "        self.data_file = data_file\n",
    "        self.data = torch.load(self.root_dir+self.data_file)\n",
    "        \n",
    "    def __len__(self):\n",
    "\n",
    "        return len(self.data)\n",
    "\n",
    "    def __getitem__(self, idx):\n",
    "        \n",
    "        self.observations = torch.Tensor(self.data['observations']).view(-1, 3, 96, 96)/255\n",
    "        #observations = observations.view(-1, 3, 96, 96)/255\n",
    "        self.actions = np.array(self.data['actions'])\n",
    "        \n",
    "        print(self.actions[0])\n",
    "        self.actions[0] = [0.,0.,0.]\n",
    "        print(self.actions[0])\n",
    "\n",
    "        self.actions = torch.as_tensor(self.actions,dtype=float32)\n",
    "        \n",
    "        self.observations = torch.split(self.observations, SAMPLE_SIZE)\n",
    "        self.actions = torch.split(self.actions, SAMPLE_SIZE)\n",
    "        \n",
    "        \n",
    "        return self.observations[idx],self.actions[idx]\n",
    "        "
   ]
  },
  {
   "cell_type": "code",
   "execution_count": null,
   "metadata": {},
   "outputs": [],
   "source": []
  }
 ],
 "metadata": {
  "kernelspec": {
   "display_name": "Python 3",
   "language": "python",
   "name": "python3"
  },
  "language_info": {
   "codemirror_mode": {
    "name": "ipython",
    "version": 3
   },
   "file_extension": ".py",
   "mimetype": "text/x-python",
   "name": "python",
   "nbconvert_exporter": "python",
   "pygments_lexer": "ipython3",
   "version": "3.6.9"
  }
 },
 "nbformat": 4,
 "nbformat_minor": 2
}
