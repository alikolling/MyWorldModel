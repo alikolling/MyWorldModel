{
 "cells": [
  {
   "cell_type": "code",
   "execution_count": 1,
   "metadata": {},
   "outputs": [],
   "source": [
    "import os\n",
    "import torch\n",
    "import torch.nn as nn\n",
    "import torch.nn.functional as F\n",
    "\n",
    "from models.vae import VariationalAutoencoder\n",
    "from models.lstm import LSTM, mdn_loss_function\n",
    "\n",
    "from torch.utils.data import DataLoader\n",
    "from lib.dataset import LSTMDataset\n",
    "\n",
    "from lib.consts import *"
   ]
  },
  {
   "cell_type": "code",
   "execution_count": 2,
   "metadata": {},
   "outputs": [],
   "source": [
    "PATH = 'models/trained/'"
   ]
  },
  {
   "cell_type": "code",
   "execution_count": 3,
   "metadata": {},
   "outputs": [],
   "source": [
    "\n",
    "def train_epoch(lstm, optimizer, example):\n",
    "    \n",
    "    optimizer.zero_grad()\n",
    "    lstm.hidden = lstm.init_hidden(SEQUENCE)\n",
    "    x = torch.cat((example['encoded'],\n",
    "            example['actions']), dim=2).to(DEVICE)\n",
    "    \n",
    "    last_ex = example['encoded'][:,-OFFSET].view(2,-1,32)\n",
    "    target = torch.cat((torch.roll(example['encoded'], shifts=-1, dims=1)[:,1:],\\\n",
    "                          last_ex,),dim=1).detach()\n",
    "    \n",
    "    pi, sigma, mu = lstm(x)\n",
    "    \n",
    "    loss = mdn_loss_function(pi, sigma, mu, target)\n",
    "    loss.backward()\n",
    "    optimizer.step()\n",
    "    \n",
    "    return float(loss)"
   ]
  },
  {
   "cell_type": "code",
   "execution_count": 4,
   "metadata": {},
   "outputs": [],
   "source": [
    "def train_lstm():\n",
    "\n",
    "    \n",
    "    lstm = LSTM(SEQUENCE, HIDDEN_UNITS, LATENT_VEC,\\\n",
    "                        NUM_LAYERS, GAUSSIANS, HIDDEN_DIM).to(DEVICE)\n",
    "    \n",
    "    vae = VariationalAutoencoder()\n",
    "    vae_checkpoint = torch.load(PATH+ 'vae'+str(8)+'.pt')\n",
    "    vae.load_state_dict(vae_checkpoint['model_state_dict'])\n",
    "    \n",
    "    optimizer = torch.optim.Adam(lstm.parameters(), lr=LR, weight_decay=L2_REG)\n",
    "    \n",
    "    dataset = LSTMDataset(data_file='rollouts.data',root_dir='data/')\n",
    "    dataloader = DataLoader(dataset, batch_size=BATCH_SIZE_LSTM)\n",
    "    \n",
    "    while True:\n",
    "        running_loss = []\n",
    "        batch_loss = []\n",
    "        \n",
    "        for observations,actions in dataloader:\n",
    "            \n",
    "            encoded = torch.stack([vae(observations[0],encode=True),vae(observations[1],encode=True)],dim=0)\n",
    "            example = {'encoded': encoded,\n",
    "                       'actions': actions}\n",
    "            \n",
    "            loss = train_epoch(lstm, optimizer, example)\n",
    "            print('loss: ', loss)\n",
    "            running_loss.append(loss)\n",
    "            print('running loss: ',running_loss)"
   ]
  },
  {
   "cell_type": "code",
   "execution_count": null,
   "metadata": {},
   "outputs": [
    {
     "name": "stdout",
     "output_type": "stream",
     "text": [
      "loss:  1.6942962408065796\n",
      "running loss:  [1.6942962408065796]\n",
      "loss:  1.6362873315811157\n",
      "running loss:  [1.6362873315811157]\n",
      "loss:  1.6175556182861328\n",
      "running loss:  [1.6175556182861328]\n",
      "loss:  1.5978407859802246\n",
      "running loss:  [1.5978407859802246]\n",
      "loss:  1.6522492170333862\n",
      "running loss:  [1.6522492170333862]\n"
     ]
    }
   ],
   "source": [
    "train_lstm()"
   ]
  },
  {
   "cell_type": "code",
   "execution_count": null,
   "metadata": {},
   "outputs": [],
   "source": []
  },
  {
   "cell_type": "code",
   "execution_count": null,
   "metadata": {},
   "outputs": [],
   "source": []
  }
 ],
 "metadata": {
  "kernelspec": {
   "display_name": "Python 3",
   "language": "python",
   "name": "python3"
  },
  "language_info": {
   "codemirror_mode": {
    "name": "ipython",
    "version": 3
   },
   "file_extension": ".py",
   "mimetype": "text/x-python",
   "name": "python",
   "nbconvert_exporter": "python",
   "pygments_lexer": "ipython3",
   "version": "3.6.9"
  }
 },
 "nbformat": 4,
 "nbformat_minor": 2
}
