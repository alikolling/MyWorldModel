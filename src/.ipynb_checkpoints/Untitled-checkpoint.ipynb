{
 "cells": [
  {
   "cell_type": "code",
   "execution_count": 1,
   "metadata": {},
   "outputs": [],
   "source": [
    "\"\"\"\n",
    "Simulated carracing environment.\n",
    "\"\"\"\n",
    "import argparse\n",
    "from os.path import join, exists\n",
    "import torch\n",
    "from torch.distributions.categorical import Categorical\n",
    "import gym\n",
    "from gym import spaces\n",
    "import numpy as np\n",
    "from models.vae import VariationalAutoencoder\n",
    "from models.mdrnn import MDRNNCell, MDRNN\n",
    "from lib.consts import *\n",
    "import matplotlib.pyplot as plt\n",
    "import numpy as np\n",
    "from data.loaders import RolloutSequenceDataset\n",
    "from torch.utils.data import DataLoader\n",
    "from torchvision.utils import save_image\n",
    "from torchvision import transforms\n",
    "import torch.nn.functional as f"
   ]
  },
  {
   "cell_type": "code",
   "execution_count": 8,
   "metadata": {},
   "outputs": [],
   "source": [
    "directory = 'exp_dir/carracing'\n",
    "vae_file = join(directory, 'vae', 'best.tar')\n",
    "rnn_file = join(directory, 'mdrnn', 'best1.tar')\n",
    "assert exists(vae_file), \"No VAE model in the directory...\"\n",
    "assert exists(rnn_file), \"No MDRNN model in the directory...\""
   ]
  },
  {
   "cell_type": "code",
   "execution_count": 9,
   "metadata": {},
   "outputs": [
    {
     "name": "stdout",
     "output_type": "stream",
     "text": [
      "Loading VAE at epoch 105, with test error 34.641434711914066...\n"
     ]
    }
   ],
   "source": [
    " # load VAE\n",
    "vae = VariationalAutoencoder()\n",
    "vae_state = torch.load(vae_file, map_location=lambda storage, location: storage)\n",
    "print(\"Loading VAE at epoch {}, \"\n",
    "      \"with test error {}...\".format(\n",
    "          vae_state['epoch'], vae_state['precision']))\n",
    "vae.load_state_dict(vae_state['state_dict'])\n",
    "_decoder = vae.decoder"
   ]
  },
  {
   "cell_type": "code",
   "execution_count": 10,
   "metadata": {},
   "outputs": [
    {
     "name": "stdout",
     "output_type": "stream",
     "text": [
      "Loading MDRNN at epoch 16, with test error 1.4025988235791524...\n"
     ]
    },
    {
     "data": {
      "text/plain": [
       "<All keys matched successfully>"
      ]
     },
     "execution_count": 10,
     "metadata": {},
     "output_type": "execute_result"
    }
   ],
   "source": [
    "# load MDRNN\n",
    "_rnn = MDRNNCell(LATENT_VEC, ACTION_SPACE, HIDDEN_UNITS, GAUSSIANS)\n",
    "rnn_state = torch.load(rnn_file, map_location=lambda storage, location: storage)\n",
    "print(\"Loading MDRNN at epoch {}, \"\n",
    "      \"with test error {}...\".format(\n",
    "          rnn_state['epoch'], rnn_state['precision']))\n",
    "rnn_state_dict = {k.strip('_l0'): v for k, v in rnn_state['state_dict'].items()}\n",
    "_rnn.load_state_dict(rnn_state_dict)\n"
   ]
  },
  {
   "cell_type": "markdown",
   "metadata": {},
   "source": [
    "# init state\n",
    "_lstate = torch.randn(1, LATENT_VEC)#torch.tensor(np.array([-0.96564144, 0.23670846, 0.9780302, 0.52927977, 0.06763684, 0.7146183, -1.3294405, -1.2075509, 1.7236525, -0.63658005, 1.992094, -1.3950056, -0.40004167, 0.20988561, 0.88519704, 0.061201278, -0.21072277, 0.49460918, 0.030673742, -0.071469426, 0.7565973, -0.4986614, 0.54357207, -1.28455, 1.3404804, 1.4076554, -0.92123044, 0.62640274, -0.12999089, -0.1744873, 0.49015865, -0.2498809]))\n",
    "_hstate = 2 * [torch.zeros(1, HIDDEN_UNITS)]\n",
    "action = np.array([1., 0., 0.])\n",
    "action = torch.Tensor(action).unsqueeze(0)"
   ]
  },
  {
   "cell_type": "markdown",
   "metadata": {},
   "source": [
    "for i in range(100):\n",
    "    \n",
    "    mu, sigma, pi, r, d, n_h = _rnn(action, _lstate, _hstate)\n",
    "    _lstate = torch.sum(pi * torch.normal(mu, sigma), dim=2).view(-1,32)\n",
    "    _hstate = n_h\n",
    "    _obs = _decoder(_lstate)\n",
    "    save_image(_obs,'samples/sequence_test3/'+str(i)+'obs.png')"
   ]
  },
  {
   "cell_type": "markdown",
   "metadata": {},
   "source": [
    "mdrnn = MDRNN(LATENT_VEC, ACTION_SPACE, HIDDEN_UNITS, GAUSSIANS)\n",
    "mdrnn.load_state_dict(rnn_state[\"state_dict\"])"
   ]
  },
  {
   "cell_type": "code",
   "execution_count": 11,
   "metadata": {},
   "outputs": [],
   "source": [
    "transform = transforms.Lambda(\n",
    "    lambda x: np.transpose(x, (0, 3, 1, 2)) / 255)\n",
    "test_loader = DataLoader(\n",
    "    RolloutSequenceDataset('datasets/carracing', 500, transform, train=True, buffer_size=100),\n",
    "    batch_size=1, num_workers=4)"
   ]
  },
  {
   "cell_type": "code",
   "execution_count": 23,
   "metadata": {},
   "outputs": [],
   "source": [
    "def to_latent(obs, next_obs):\n",
    "    '''\n",
    "    Transforme as observações em espaço latente. \n",
    "    \n",
    "    Transform observations to latent space.\n",
    "    :args obs: 5D torch tensor (BATCH_SIZE_LSTM, SEQ_LEN, ASIZE, SIZE, SIZE)\n",
    "    :args next_obs: 5D torch tensor (BATCH_SIZE_LSTM, SEQ_LEN, ASIZE, SIZE, SIZE)\n",
    "    :returns: (latent_obs, latent_next_obs)\n",
    "        - latent_obs: 4D torch tensor (BATCH_SIZE_LSTM, SEQ_LEN, LATENT_VEC)\n",
    "        - next_latent_obs: 4D torch tensor (BATCH_SIZE_LSTM, SEQ_LEN, LATENT_VEC)\n",
    "    '''\n",
    "    seq_len = obs.shape[1]\n",
    "    with torch.no_grad():\n",
    "        obs, next_obs = [\n",
    "            f.upsample(x.view(-1, 3, SIZE, SIZE), size=RED_SIZE,\n",
    "                       mode='bilinear', align_corners=True)\n",
    "            for x in (obs, next_obs)]\n",
    "    \n",
    "        latent_obs, latent_next_obs = [vae(x, encode=True).view(-1, seq_len, LATENT_VEC)\n",
    "         for x in (obs, next_obs)]\n",
    "    \n",
    "    return latent_obs, latent_next_obs"
   ]
  },
  {
   "cell_type": "code",
   "execution_count": 24,
   "metadata": {},
   "outputs": [
    {
     "name": "stderr",
     "output_type": "stream",
     "text": [
      "Loading file buffer ...: 100%|██████████| 40/40 \n"
     ]
    }
   ],
   "source": [
    "#mdrnn.eval()\n",
    "loader = test_loader\n",
    "loader.dataset.load_next_buffer()"
   ]
  },
  {
   "cell_type": "code",
   "execution_count": 25,
   "metadata": {},
   "outputs": [
    {
     "name": "stdout",
     "output_type": "stream",
     "text": [
      "torch.Size([1, 500, 3, 64, 64])\n"
     ]
    }
   ],
   "source": [
    "data = next(iter(loader))\n",
    "obs, action, reward, terminal, next_obs = [arr for arr in data]\n",
    "print(obs.size())"
   ]
  },
  {
   "cell_type": "code",
   "execution_count": 28,
   "metadata": {},
   "outputs": [
    {
     "name": "stdout",
     "output_type": "stream",
     "text": [
      "torch.Size([1, 3, 64, 64])\n"
     ]
    }
   ],
   "source": [
    "#_lstate = torch.randn(1, LATENT_VEC)#torch.tensor(np.array([-0.96564144, 0.23670846, 0.9780302, 0.52927977, 0.06763684, 0.7146183, -1.3294405, -1.2075509, 1.7236525, -0.63658005, 1.992094, -1.3950056, -0.40004167, 0.20988561, 0.88519704, 0.061201278, -0.21072277, 0.49460918, 0.030673742, -0.071469426, 0.7565973, -0.4986614, 0.54357207, -1.28455, 1.3404804, 1.4076554, -0.92123044, 0.62640274, -0.12999089, -0.1744873, 0.49015865, -0.2498809]))\n",
    "print(obs[:, 100,:,:,:].size())\n",
    "_lstate, _ = to_latent(obs[:, 100,:,:,:].view(-1, 1, 3, 64, 64), next_obs[:, 10,:,:,:].view(-1, 1, 3, 64, 64))\n",
    "_hstate = 2 * [torch.zeros(1, HIDDEN_UNITS)]"
   ]
  },
  {
   "cell_type": "code",
   "execution_count": 43,
   "metadata": {},
   "outputs": [
    {
     "ename": "TypeError",
     "evalue": "cat() received an invalid combination of arguments - got (Tensor, dim=int), but expected one of:\n * (tuple of Tensors tensors, int dim, *, Tensor out)\n * (tuple of Tensors tensors, name dim, *, Tensor out)\n",
     "output_type": "error",
     "traceback": [
      "\u001b[0;31m---------------------------------------------------------------------------\u001b[0m",
      "\u001b[0;31mTypeError\u001b[0m                                 Traceback (most recent call last)",
      "\u001b[0;32m<ipython-input-43-f3ef7f8c5fad>\u001b[0m in \u001b[0;36m<module>\u001b[0;34m\u001b[0m\n\u001b[1;32m      5\u001b[0m     \u001b[0m_hstate\u001b[0m \u001b[0;34m=\u001b[0m \u001b[0mn_h\u001b[0m\u001b[0;34m\u001b[0m\u001b[0;34m\u001b[0m\u001b[0m\n\u001b[1;32m      6\u001b[0m     \u001b[0m_obs\u001b[0m \u001b[0;34m=\u001b[0m \u001b[0m_decoder\u001b[0m\u001b[0;34m(\u001b[0m\u001b[0m_lstate\u001b[0m\u001b[0;34m)\u001b[0m\u001b[0;34m\u001b[0m\u001b[0;34m\u001b[0m\u001b[0m\n\u001b[0;32m----> 7\u001b[0;31m     \u001b[0ma\u001b[0m \u001b[0;34m=\u001b[0m \u001b[0mtorch\u001b[0m\u001b[0;34m.\u001b[0m\u001b[0mcat\u001b[0m\u001b[0;34m(\u001b[0m\u001b[0m_obs\u001b[0m\u001b[0;34m,\u001b[0m \u001b[0mdim\u001b[0m\u001b[0;34m=\u001b[0m\u001b[0;36m0\u001b[0m\u001b[0;34m)\u001b[0m\u001b[0;34m\u001b[0m\u001b[0;34m\u001b[0m\u001b[0m\n\u001b[0m\u001b[1;32m      8\u001b[0m     \u001b[0msave_image\u001b[0m\u001b[0;34m(\u001b[0m\u001b[0mtorch\u001b[0m\u001b[0;34m.\u001b[0m\u001b[0mcat\u001b[0m\u001b[0;34m(\u001b[0m\u001b[0;34m[\u001b[0m\u001b[0m_obs\u001b[0m\u001b[0;34m,\u001b[0m\u001b[0mnext_obs\u001b[0m\u001b[0;34m[\u001b[0m\u001b[0;34m:\u001b[0m\u001b[0;34m,\u001b[0m \u001b[0;36m100\u001b[0m\u001b[0;34m+\u001b[0m\u001b[0mi\u001b[0m\u001b[0;34m,\u001b[0m\u001b[0;34m:\u001b[0m\u001b[0;34m,\u001b[0m\u001b[0;34m:\u001b[0m\u001b[0;34m,\u001b[0m\u001b[0;34m:\u001b[0m\u001b[0;34m]\u001b[0m\u001b[0;34m]\u001b[0m\u001b[0;34m)\u001b[0m\u001b[0;34m,\u001b[0m\u001b[0;34m'samples/sequence_test4/o'\u001b[0m\u001b[0;34m+\u001b[0m\u001b[0mstr\u001b[0m\u001b[0;34m(\u001b[0m\u001b[0mi\u001b[0m\u001b[0;34m)\u001b[0m\u001b[0;34m+\u001b[0m\u001b[0;34m'repo.png'\u001b[0m\u001b[0;34m)\u001b[0m\u001b[0;34m\u001b[0m\u001b[0;34m\u001b[0m\u001b[0m\n\u001b[1;32m      9\u001b[0m \u001b[0msave_image\u001b[0m\u001b[0;34m(\u001b[0m\u001b[0ma\u001b[0m\u001b[0;34m,\u001b[0m \u001b[0;34m'samples/sequence_test4/o'\u001b[0m\u001b[0;34m+\u001b[0m\u001b[0;34m'a'\u001b[0m\u001b[0;34m+\u001b[0m\u001b[0;34m'repo.png'\u001b[0m\u001b[0;34m)\u001b[0m\u001b[0;34m\u001b[0m\u001b[0;34m\u001b[0m\u001b[0m\n",
      "\u001b[0;31mTypeError\u001b[0m: cat() received an invalid combination of arguments - got (Tensor, dim=int), but expected one of:\n * (tuple of Tensors tensors, int dim, *, Tensor out)\n * (tuple of Tensors tensors, name dim, *, Tensor out)\n"
     ]
    }
   ],
   "source": [
    "\n",
    "repo = []               \n",
    "for i in range(8):\n",
    "    mu, sigma, pi, r, d, n_h = _rnn(action[:,i], _lstate.view(1,-1), _hstate)\n",
    "    _lstate = torch.sum(pi * torch.normal(mu, sigma), dim=2).view(-1,32)\n",
    "    _hstate = n_h\n",
    "    _obs = _decoder(_lstate)\n",
    "    a = torch.cat([a,_obs], dim=0)\n",
    "    save_image(torch.cat([_obs,next_obs[:, 100+i,:,:,:]]),'samples/sequence_test4/o'+str(i)+'repo.png')\n",
    "save_image(a, 'samples/sequence_test4/o'+'a'+'repo.png')"
   ]
  },
  {
   "cell_type": "code",
   "execution_count": 18,
   "metadata": {},
   "outputs": [
    {
     "name": "stderr",
     "output_type": "stream",
     "text": [
      "/home/alisson/.local/lib/python3.6/site-packages/torch/nn/functional.py:3509: UserWarning: nn.functional.upsample is deprecated. Use nn.functional.interpolate instead.\n",
      "  warnings.warn(\"nn.functional.upsample is deprecated. Use nn.functional.interpolate instead.\")\n"
     ]
    }
   ],
   "source": [
    "latent_obs, latent_next_obs = to_latent(obs, next_obs)"
   ]
  },
  {
   "cell_type": "code",
   "execution_count": 19,
   "metadata": {},
   "outputs": [
    {
     "data": {
      "text/plain": [
       "torch.Size([1, 100, 3])"
      ]
     },
     "execution_count": 19,
     "metadata": {},
     "output_type": "execute_result"
    }
   ],
   "source": [
    "action.size()"
   ]
  },
  {
   "cell_type": "code",
   "execution_count": 20,
   "metadata": {},
   "outputs": [],
   "source": [
    "#action = torch.cat((action,torch.zeros((1,11,1))), dim=2)"
   ]
  },
  {
   "cell_type": "code",
   "execution_count": 20,
   "metadata": {},
   "outputs": [
    {
     "data": {
      "text/plain": [
       "torch.Size([1, 100, 3])"
      ]
     },
     "execution_count": 20,
     "metadata": {},
     "output_type": "execute_result"
    }
   ],
   "source": [
    "\n",
    "action.size()"
   ]
  },
  {
   "cell_type": "code",
   "execution_count": 21,
   "metadata": {},
   "outputs": [
    {
     "name": "stdout",
     "output_type": "stream",
     "text": [
      "torch.Size([1, 100, 3]) torch.Size([1, 100, 32])\n"
     ]
    }
   ],
   "source": [
    "mus, sigmas, logpi, rs, ds = mdrnn(action, latent_obs)"
   ]
  },
  {
   "cell_type": "code",
   "execution_count": 22,
   "metadata": {},
   "outputs": [],
   "source": [
    " lstate = torch.sum(logpi * torch.normal(mus, sigmas), dim=2).view(-1,100,32)"
   ]
  },
  {
   "cell_type": "code",
   "execution_count": 23,
   "metadata": {},
   "outputs": [
    {
     "data": {
      "text/plain": [
       "torch.Size([1, 100, 32])"
      ]
     },
     "execution_count": 23,
     "metadata": {},
     "output_type": "execute_result"
    }
   ],
   "source": [
    "lstate.size()"
   ]
  },
  {
   "cell_type": "code",
   "execution_count": 24,
   "metadata": {},
   "outputs": [],
   "source": [
    "recon_lstm = _decoder(lstate[0])\n"
   ]
  },
  {
   "cell_type": "code",
   "execution_count": 25,
   "metadata": {},
   "outputs": [],
   "source": [
    "save_image(recon_lstm,'samples/recon_lstm.png')"
   ]
  },
  {
   "cell_type": "code",
   "execution_count": 28,
   "metadata": {},
   "outputs": [],
   "source": [
    "save_image(obs[0],'samples/lstm_test_2/obs.png')"
   ]
  },
  {
   "cell_type": "code",
   "execution_count": 29,
   "metadata": {},
   "outputs": [],
   "source": [
    "save_image(next_obs[0],'samples/lstm_test_2/next_obs.png')"
   ]
  },
  {
   "cell_type": "code",
   "execution_count": 5,
   "metadata": {},
   "outputs": [],
   "source": [
    "  transform = transforms.Lambda(\n",
    "    lambda x: np.transpose(x, (0, 3, 1, 2)) / 255)\n",
    "test_loader = DataLoader(\n",
    "    RolloutSequenceDataset('datasets/carracing', 100, transform, train=True, buffer_size=1),\n",
    "    batch_size=1, num_workers=1)              "
   ]
  },
  {
   "cell_type": "code",
   "execution_count": 6,
   "metadata": {},
   "outputs": [],
   "source": [
    "a = RolloutSequenceDataset('datasets/turtlebot3', 100, transform, train=True, buffer_size=1)"
   ]
  },
  {
   "cell_type": "code",
   "execution_count": 7,
   "metadata": {},
   "outputs": [
    {
     "name": "stderr",
     "output_type": "stream",
     "text": [
      "Loading file buffer ...: 100%|██████████| 1/1 "
     ]
    },
    {
     "name": "stdout",
     "output_type": "stream",
     "text": [
      "fl 1\n",
      "seq 89\n",
      "bf 1\n",
      "5\n"
     ]
    },
    {
     "name": "stderr",
     "output_type": "stream",
     "text": [
      "\n"
     ]
    }
   ],
   "source": [
    "a.load_next_buffer()\n",
    "print(len(a[0]))"
   ]
  },
  {
   "cell_type": "code",
   "execution_count": 8,
   "metadata": {},
   "outputs": [
    {
     "name": "stderr",
     "output_type": "stream",
     "text": [
      "Loading file buffer ...: 100%|██████████| 1/1 \n"
     ]
    }
   ],
   "source": [
    "loader = test_loader\n",
    "loader.dataset.load_next_buffer()\n"
   ]
  },
  {
   "cell_type": "code",
   "execution_count": 9,
   "metadata": {},
   "outputs": [
    {
     "name": "stdout",
     "output_type": "stream",
     "text": [
      "aaaaa 900\n"
     ]
    },
    {
     "data": {
      "text/plain": [
       "900"
      ]
     },
     "execution_count": 9,
     "metadata": {},
     "output_type": "execute_result"
    }
   ],
   "source": [
    "len(loader)"
   ]
  },
  {
   "cell_type": "code",
   "execution_count": 10,
   "metadata": {},
   "outputs": [
    {
     "name": "stdout",
     "output_type": "stream",
     "text": [
      "fl aaaaa 900\n",
      "0\n",
      "seq 0\n",
      "bf 1\n",
      "fl 0\n",
      "seq 1\n",
      "bf 1\n",
      "torch.Size([1, 999, 3, 64, 64])\n",
      "torch.Size([1, 999, 3])\n",
      "fl 0\n",
      "seq 2\n",
      "bf 1\n",
      "torch.Size([1, 999, 3, 64, 64])\n",
      "torch.Size([1, 999, 3])\n",
      "fl 0\n",
      "seq 3\n",
      "bf 1\n",
      "torch.Size([1, 999, 3, 64, 64])\n",
      "torch.Size([1, 999, 3])\n",
      "fl 0\n",
      "seq 4\n",
      "bf 1\n",
      "torch.Size([1, 999, 3, 64, 64])\n",
      "torch.Size([1, 998, 3])\n",
      "fl 0\n",
      "seq 5\n",
      "bf 1\n",
      "torch.Size([1, 999, 3, 64, 64])\n",
      "torch.Size([1, 997, 3])\n",
      "fl 0\n",
      "seq 6\n",
      "bf 1\n",
      "torch.Size([1, 999, 3, 64, 64])\n",
      "torch.Size([1, 996, 3])\n",
      "fl bf0\n",
      "seq 7\n",
      " 1\n",
      "torch.Size([1, 999, 3, 64, 64])\n",
      "torch.Size([1, 995, 3])\n",
      "fl 0\n",
      "seq 8\n",
      "bf 1\n",
      "torch.Size([1, 999, 3, 64, 64])\n",
      "torch.Size([1, 994, 3])\n",
      "fl 0\n",
      "seq 9\n",
      "bf 1\n",
      "torch.Size([1, 999, 3, 64, 64])\n",
      "torch.Size([1, 993, 3])\n",
      "fl 0\n",
      "seq 10\n",
      "bf 1\n",
      "torch.Size([1, 999, 3, 64, 64])\n",
      "torch.Size([1, 992, 3])\n",
      "fl 0\n",
      "seq 11\n",
      "bf 1\n",
      "torch.Size([1, 999, 3, 64, 64])\n",
      "torch.Size([1, 991, 3])\n",
      "fl 0\n",
      "seq 12\n",
      "bf 1\n",
      "torch.Size([1, 999, 3, 64, 64])\n",
      "torch.Size([1, 990, 3])\n",
      "fl 0\n",
      "seq 13\n",
      "bf 1\n",
      "torch.Size([1, 999, 3, 64, 64])\n",
      "torch.Size([1, 989, 3])\n",
      "fl 0\n",
      "seq 14\n",
      "bf 1\n",
      "torch.Size([1, 999, 3, 64, 64])\n",
      "torch.Size([1, 988, 3])\n",
      "fl 0\n",
      "seq 15\n",
      "bf 1\n",
      "fl 0\n",
      "seq 16\n",
      "bf torch.Size([1, 999, 3, 64, 64])\n",
      "torch.Size([1, 987, 3])\n",
      "torch.Size([1, 999, 3, 64, 64])\n",
      "torch.Size([1, 986, 3])\n",
      "1\n",
      "fl 0\n",
      "seq 17\n",
      "bf 1\n",
      "fl 0\n",
      "seq 18\n",
      "bf torch.Size([1, 999, 3, 64, 64])\n",
      "torch.Size([1, 985, 3])\n",
      "torch.Size([1, 999, 3, 64, 64])\n",
      "torch.Size([1, 984, 3])\n",
      "1\n",
      "fl 0\n",
      "seq 19\n",
      "bf 1\n",
      "fl 0 \n",
      "seq20\n",
      "bf 1\n",
      "torch.Size([1, 999, 3, 64, 64])\n",
      "torch.Size([1, 983, 3])\n",
      "torch.Size([1, 999, 3, 64, 64])\n",
      "torch.Size([1, 982, 3])\n",
      "fl 0\n",
      "seq 21\n",
      "bf 1\n",
      "torch.Size([1, 999, 3, 64, 64])\n",
      "torch.Size([1, 981, 3])\n",
      "fl 0\n",
      "seq 22\n",
      "bf 1\n",
      "torch.Size([1, 999, 3, 64, 64])\n",
      "torch.Size([1, 980, 3])\n",
      "fl 0\n",
      "seq 23\n",
      "bf 1\n",
      "fl torch.Size([1, 999, 3, 64, 64])\n",
      "torch.Size([1, 979, 3])\n",
      "0\n",
      "seq 24\n",
      "bf 1\n",
      "torch.Size([1, 999, 3, 64, 64])\n",
      "torch.Size([1, 978, 3])\n",
      "fl 0\n",
      "seq 25\n",
      "bf 1\n",
      "torch.Size([1, 999, 3, 64, 64])\n",
      "torch.Size([1, 977, 3])\n",
      "fl 0\n",
      "seq 26\n",
      "bf 1\n",
      "torch.Size([1, 999, 3, 64, 64])\n",
      "torch.Size([1, 976, 3])\n",
      "fl 0\n",
      "seq 27\n",
      "bf 1\n",
      "torch.Size([1, 999, 3, 64, 64])\n",
      "torch.Size([1, 975, 3])\n",
      "fl 0\n",
      "seq 28\n",
      "bf 1\n",
      "torch.Size([1, 999, 3, 64, 64])\n",
      "torch.Size([1, 974, 3])\n",
      "fl 0 \n",
      "seq29\n",
      "bf 1\n",
      "fl torch.Size([1, 999, 3, 64, 64])\n",
      "torch.Size([1, 973, 3])\n",
      "0\n",
      "seq 30\n",
      "bf 1\n",
      "fl 0\n",
      "seq 31\n",
      "bf 1\n",
      "fl 0torch.Size([1, 999, 3, 64, 64])\n",
      "torch.Size([1, 972, 3])\n",
      "torch.Size([1, 999, 3, 64, 64])\n",
      "torch.Size([1, 971, 3])\n",
      "\n",
      "seq 32\n",
      "bf 1\n",
      "fltorch.Size([1, 999, 3, 64, 64])\n",
      "torch.Size([1, 970, 3])\n",
      " 0\n",
      "seq 33\n",
      "bf 1\n",
      "torch.Size([1, 999, 3, 64, 64])\n",
      "torch.Size([1, 969, 3])\n",
      "fl 0\n",
      "seq 34\n",
      "bf 1\n",
      "torch.Size([1, 999, 3, 64, 64])\n",
      "torch.Size([1, 968, 3])\n",
      "fl 0\n",
      "seq 35\n",
      "bf 1\n",
      "fl 0torch.Size([1, 999, 3, 64, 64])\n",
      "torch.Size([1, 967, 3])\n",
      "torch.Size([1, 999, 3, 64, 64])\n",
      "torch.Size([1, 966, 3])\n",
      "\n",
      "seq 36\n",
      "bf 1\n",
      "fl 0\n",
      "seq 37\n",
      "bf 1\n",
      "torch.Size([1, 999, 3, 64, 64])\n",
      "torch.Size([1, 965, 3])\n",
      "fl 0\n",
      "seq 38\n",
      "bf 1\n",
      "torch.Size([1, 999, 3, 64, 64])\n",
      "torch.Size([1, 964, 3])\n",
      "fl 0\n",
      "seq 39\n",
      "bf 1\n",
      "torch.Size([1, 999, 3, 64, 64])\n",
      "torch.Size([1, 963, 3])\n",
      "fl 0\n",
      "seq 40\n",
      "bf 1\n",
      "torch.Size([1, 999, 3, 64, 64])\n",
      "torch.Size([1, 962, 3])\n",
      "fl 0\n",
      "seq 41\n",
      "bf 1\n",
      "torch.Size([1, 999, 3, 64, 64])\n",
      "torch.Size([1, 961, 3])\n",
      "fl 0\n",
      "seq 42\n",
      "bf 1\n",
      "torch.Size([1, 999, 3, 64, 64])\n",
      "torch.Size([1, 960, 3])\n",
      "fl 0\n",
      "seq 43\n",
      "bf 1\n",
      "fl 0\n",
      "seq 44\n",
      "bf 1torch.Size([1, 999, 3, 64, 64])\n",
      "torch.Size([1, 959, 3])\n",
      "torch.Size([1, 999, 3, 64, 64])\n",
      "torch.Size([1, 958, 3])\n",
      "\n",
      "fl 0\n",
      "seq 45\n",
      "bf 1\n",
      "fl 0\n",
      "seq 46\n",
      "bf 1\n",
      "torch.Size([1, 999, 3, 64, 64])\n",
      "torch.Size([1, 957, 3])\n",
      "torch.Size([1, 999, 3, 64, 64])\n",
      "torch.Size([1, 956, 3])\n",
      "fl 0\n",
      "seq 47\n",
      "bf 1\n",
      "fl 0\n",
      "seq 48\n",
      "bf 1\n",
      "torch.Size([1, 999, 3, 64, 64])\n",
      "torch.Size([1, 955, 3])\n",
      "torch.Size([1, 999, 3, 64, 64])\n",
      "torch.Size([1, 954, 3])\n",
      "fl 0\n",
      "seq 49\n",
      "bf 1\n",
      "fl 0\n",
      "seq 50\n",
      "torch.Size([1, 999, 3, 64, 64])\n",
      "torch.Size([1, 953, 3])\n",
      "torch.Size([1, 999, 3, 64, 64])\n",
      "torch.Size([1, 952, 3])\n",
      "bf 1\n",
      "fl 0\n",
      "seq 51\n",
      "bf 1\n",
      "fl 0\n",
      "seq 52\n",
      "bf 1\n",
      "torch.Size([1, 999, 3, 64, 64])\n",
      "torch.Size([1, 951, 3])\n",
      "torch.Size([1, 999, 3, 64, 64])\n",
      "torch.Size([1, 950, 3])\n",
      "fl 0\n",
      "seq 53\n",
      "bf 1\n",
      "fl 0\n",
      "seq 54\n",
      "bf 1\n",
      "torch.Size([1, 999, 3, 64, 64])\n",
      "torch.Size([1, 949, 3])\n",
      "torch.Size([1, 999, 3, 64, 64])\n",
      "torch.Size([1, 948, 3])\n",
      "fl 0\n",
      "seq 55\n",
      "bf 1\n",
      "fl 0\n",
      "seq 56\n",
      "bf 1\n",
      "torch.Size([1, 999, 3, 64, 64])\n",
      "torch.Size([1, 947, 3])\n",
      "torch.Size([1, 999, 3, 64, 64])\n",
      "torch.Size([1, 946, 3])\n",
      "fl 0\n",
      "seq 57\n",
      "bf 1\n",
      "fl 0\n",
      "seq 58\n",
      "bf 1\n",
      "torch.Size([1, 999, 3, 64, 64])\n",
      "torch.Size([1, 945, 3])\n",
      "torch.Size([1, 999, 3, 64, 64])\n",
      "torch.Size([1, 944, 3])\n",
      "fl 0\n",
      "seq 59\n",
      "bf 1\n",
      "fl 0\n",
      "seq 60\n",
      "bf 1torch.Size([1, 999, 3, 64, 64])\n",
      "torch.Size([1, 943, 3])\n",
      "torch.Size([1, 999, 3, 64, 64])\n",
      "torch.Size([1, 942, 3])\n",
      "\n",
      "fl 0\n",
      " seq61\n",
      "bf 1\n",
      "fl 0\n",
      "seq 62\n",
      "bf 1\n",
      "torch.Size([1, 999, 3, 64, 64])\n",
      "torch.Size([1, 941, 3])\n",
      "torch.Size([1, 999, 3, 64, 64])\n",
      "torch.Size([1, 940, 3])\n",
      "fl 0\n",
      "seq 63\n",
      "bf 1\n",
      "fl 0\n",
      "seq 64\n",
      "bf torch.Size([1, 999, 3, 64, 64])\n",
      "torch.Size([1, 939, 3])\n",
      "torch.Size([1, 999, 3, 64, 64])\n",
      "torch.Size([1, 938, 3])\n",
      "1\n",
      "fl 0\n",
      "seq 65\n",
      "bf 1\n",
      "fl 0\n",
      " seq66\n",
      "bf 1\n",
      "torch.Size([1, 999, 3, 64, 64])\n",
      "torch.Size([1, 937, 3])\n",
      "torch.Size([1, 999, 3, 64, 64])\n",
      "torch.Size([1, 936, 3])\n",
      "fl 0\n",
      " seq67\n",
      "bf 1\n",
      "fl 0\n",
      "seq 68\n",
      "bf 1\n",
      "torch.Size([1, 999, 3, 64, 64])\n",
      "torch.Size([1, 935, 3])\n",
      "torch.Size([1, 999, 3, 64, 64])\n",
      "torch.Size([1, 934, 3])\n",
      "fl 0\n",
      "seq 69\n",
      "bf 1\n",
      "fl 0\n",
      "seq 70\n",
      "torch.Size([1, 999, 3, 64, 64])\n",
      "torch.Size([1, 933, 3])\n",
      "torch.Size([1, 999, 3, 64, 64])\n",
      "torch.Size([1, 932, 3])\n",
      "bf 1\n",
      "fl 0\n",
      "seq 71\n",
      "bf 1\n",
      "fl 0\n",
      "seq 72\n",
      "bf torch.Size([1, 999, 3, 64, 64])\n",
      "torch.Size([1, 931, 3])\n",
      "torch.Size([1, 999, 3, 64, 64])\n",
      "torch.Size([1, 930, 3])\n",
      "1\n",
      "fl 0\n",
      "seq 73\n",
      "bf 1\n",
      "fl 0\n",
      "seq 74\n",
      "bftorch.Size([1, 999, 3, 64, 64])\n",
      "torch.Size([1, 929, 3])\n",
      "torch.Size([1, 999, 3, 64, 64])\n",
      "torch.Size([1, 928, 3])\n",
      " 1\n",
      "fl 0\n",
      "seq 75\n",
      "bf 1\n",
      "torch.Size([1, 999, 3, 64, 64])\n",
      "torch.Size([1, 927, 3])\n",
      "fl 0\n",
      "seq 76\n",
      "bf 1\n",
      "torch.Size([1, 999, 3, 64, 64])\n",
      "torch.Size([1, 926, 3])\n",
      "fl 0\n",
      "seq 77\n",
      "bf 1\n",
      "torch.Size([1, 999, 3, 64, 64])\n",
      "torch.Size([1, 925, 3])\n",
      "fl 0\n",
      "seq 78\n",
      "bf 1\n",
      "torch.Size([1, 999, 3, 64, 64])\n",
      "torch.Size([1, 924, 3])\n",
      "fl seq0\n",
      " 79\n",
      "bf 1\n",
      "fl \n",
      "0seq 80\n",
      "torch.Size([1, 999, 3, 64, 64])\n",
      "torch.Size([1, 923, 3])\n",
      "torch.Size([1, 999, 3, 64, 64])\n",
      "torch.Size([1, 922, 3])\n",
      "bf 1\n",
      "fl 0\n",
      "seq 81\n",
      "bf 1\n",
      "fl 0\n",
      "seq 82\n",
      "bf 1\n",
      "torch.Size([1, 999, 3, 64, 64])\n",
      "torch.Size([1, 921, 3])\n",
      "torch.Size([1, 999, 3, 64, 64])\n",
      "torch.Size([1, 920, 3])\n",
      "fl 0\n",
      "seq 83\n",
      "bf 1\n",
      "fl 0\n",
      "seq 84\n",
      "bf 1\n",
      "torch.Size([1, 999, 3, 64, 64])\n",
      "torch.Size([1, 919, 3])\n",
      "torch.Size([1, 999, 3, 64, 64])\n",
      "torch.Size([1, 918, 3])\n",
      "fl 0\n",
      "seq 85\n",
      "bf 1\n",
      "fl 0\n",
      "seq 86\n",
      "bf 1\n",
      "torch.Size([1, 999, 3, 64, 64])\n",
      "torch.Size([1, 917, 3])\n",
      "torch.Size([1, 999, 3, 64, 64])\n",
      "torch.Size([1, 916, 3])\n",
      "fl 0\n",
      "seq 87\n",
      "bf 1\n",
      "fl 0\n",
      "seq 88\n",
      "bf 1\n",
      "torch.Size([1, 999, 3, 64, 64])\n",
      "torch.Size([1, 915, 3])\n",
      "torch.Size([1, 999, 3, 64, 64])\n",
      "torch.Size([1, 914, 3])\n",
      "fl 0\n",
      "seq bf89\n",
      " 1\n",
      "fl 0\n",
      "seq 90\n",
      "torch.Size([1, 999, 3, 64, 64])\n",
      "torch.Size([1, 913, 3])\n",
      "torch.Size([1, 999, 3, 64, 64])bf 1\n",
      "fl 0\n",
      "seq 91\n",
      "bf \n",
      "torch.Size([1, 912, 3])\n",
      "torch.Size([1, 999, 3, 64, 64])\n",
      "torch.Size([1, 911, 3])\n",
      "1\n",
      "fl 0\n",
      "seq 92\n",
      "bf 1\n",
      "fltorch.Size([1, 999, 3, 64, 64])\n",
      "torch.Size([1, 910, 3])\n",
      " 0\n",
      "seq 93\n",
      "bf 1\n",
      "torch.Size([1, 999, 3, 64, 64])\n",
      "torch.Size([1, 909, 3])\n",
      "fl 0\n",
      "seq 94\n",
      "bf 1\n",
      "fl 0\n",
      "seq 95torch.Size([1, 999, 3, 64, 64])\n",
      "torch.Size([1, 908, 3])\n",
      "torch.Size([1, 999, 3, 64, 64])\n",
      "torch.Size([1, 907, 3])\n",
      "\n",
      "bf 1\n",
      "fl \n",
      "0seq 96\n",
      "bf 1\n",
      "fl 0\n",
      "seq 97\n",
      "bf 1\n",
      "torch.Size([1, 999, 3, 64, 64])\n",
      "torch.Size([1, 906, 3])\n",
      "torch.Size([1, 999, 3, 64, 64])\n",
      "torch.Size([1, 905, 3])\n",
      "fl 0\n",
      "seq 98\n",
      "bf 1\n",
      "fl 0\n",
      "seq 99\n",
      "bf 1\n",
      "torch.Size([1, 999, 3, 64, 64])\n",
      "torch.Size([1, 904, 3])\n",
      "torch.Size([1, 999, 3, 64, 64])\n",
      "torch.Size([1, 903, 3])\n",
      "fl 0\n",
      "seq 100\n",
      "bf 1\n",
      "torch.Size([1, 999, 3, 64, 64])\n",
      "torch.Size([1, 902, 3])\n"
     ]
    },
    {
     "ename": "KeyboardInterrupt",
     "evalue": "",
     "output_type": "error",
     "traceback": [
      "\u001b[0;31m---------------------------------------------------------------------------\u001b[0m",
      "\u001b[0;31mKeyboardInterrupt\u001b[0m                         Traceback (most recent call last)",
      "\u001b[0;32m<ipython-input-10-ad2626d2a415>\u001b[0m in \u001b[0;36m<module>\u001b[0;34m\u001b[0m\n\u001b[0;32m----> 1\u001b[0;31m \u001b[0;32mfor\u001b[0m \u001b[0mi\u001b[0m\u001b[0;34m,\u001b[0m \u001b[0mdata\u001b[0m \u001b[0;32min\u001b[0m \u001b[0menumerate\u001b[0m\u001b[0;34m(\u001b[0m\u001b[0mloader\u001b[0m\u001b[0;34m)\u001b[0m\u001b[0;34m:\u001b[0m\u001b[0;34m\u001b[0m\u001b[0;34m\u001b[0m\u001b[0m\n\u001b[0m\u001b[1;32m      2\u001b[0m     \u001b[0mobs\u001b[0m\u001b[0;34m,\u001b[0m \u001b[0maction\u001b[0m\u001b[0;34m,\u001b[0m \u001b[0mreward\u001b[0m\u001b[0;34m,\u001b[0m \u001b[0mterminal\u001b[0m\u001b[0;34m,\u001b[0m \u001b[0mnext_obs\u001b[0m \u001b[0;34m=\u001b[0m \u001b[0;34m[\u001b[0m\u001b[0marr\u001b[0m \u001b[0;32mfor\u001b[0m \u001b[0marr\u001b[0m \u001b[0;32min\u001b[0m \u001b[0mdata\u001b[0m\u001b[0;34m]\u001b[0m\u001b[0;34m\u001b[0m\u001b[0;34m\u001b[0m\u001b[0m\n\u001b[1;32m      3\u001b[0m     \u001b[0mprint\u001b[0m\u001b[0;34m(\u001b[0m\u001b[0mobs\u001b[0m\u001b[0;34m.\u001b[0m\u001b[0msize\u001b[0m\u001b[0;34m(\u001b[0m\u001b[0;34m)\u001b[0m\u001b[0;34m)\u001b[0m\u001b[0;34m\u001b[0m\u001b[0;34m\u001b[0m\u001b[0m\n\u001b[1;32m      4\u001b[0m     \u001b[0mprint\u001b[0m\u001b[0;34m(\u001b[0m\u001b[0maction\u001b[0m\u001b[0;34m.\u001b[0m\u001b[0msize\u001b[0m\u001b[0;34m(\u001b[0m\u001b[0;34m)\u001b[0m\u001b[0;34m)\u001b[0m\u001b[0;34m\u001b[0m\u001b[0;34m\u001b[0m\u001b[0m\n",
      "\u001b[0;32m~/.local/lib/python3.6/site-packages/torch/utils/data/dataloader.py\u001b[0m in \u001b[0;36m__next__\u001b[0;34m(self)\u001b[0m\n\u001b[1;32m    519\u001b[0m             \u001b[0;32mif\u001b[0m \u001b[0mself\u001b[0m\u001b[0;34m.\u001b[0m\u001b[0m_sampler_iter\u001b[0m \u001b[0;32mis\u001b[0m \u001b[0;32mNone\u001b[0m\u001b[0;34m:\u001b[0m\u001b[0;34m\u001b[0m\u001b[0;34m\u001b[0m\u001b[0m\n\u001b[1;32m    520\u001b[0m                 \u001b[0mself\u001b[0m\u001b[0;34m.\u001b[0m\u001b[0m_reset\u001b[0m\u001b[0;34m(\u001b[0m\u001b[0;34m)\u001b[0m\u001b[0;34m\u001b[0m\u001b[0;34m\u001b[0m\u001b[0m\n\u001b[0;32m--> 521\u001b[0;31m             \u001b[0mdata\u001b[0m \u001b[0;34m=\u001b[0m \u001b[0mself\u001b[0m\u001b[0;34m.\u001b[0m\u001b[0m_next_data\u001b[0m\u001b[0;34m(\u001b[0m\u001b[0;34m)\u001b[0m\u001b[0;34m\u001b[0m\u001b[0;34m\u001b[0m\u001b[0m\n\u001b[0m\u001b[1;32m    522\u001b[0m             \u001b[0mself\u001b[0m\u001b[0;34m.\u001b[0m\u001b[0m_num_yielded\u001b[0m \u001b[0;34m+=\u001b[0m \u001b[0;36m1\u001b[0m\u001b[0;34m\u001b[0m\u001b[0;34m\u001b[0m\u001b[0m\n\u001b[1;32m    523\u001b[0m             \u001b[0;32mif\u001b[0m \u001b[0mself\u001b[0m\u001b[0;34m.\u001b[0m\u001b[0m_dataset_kind\u001b[0m \u001b[0;34m==\u001b[0m \u001b[0m_DatasetKind\u001b[0m\u001b[0;34m.\u001b[0m\u001b[0mIterable\u001b[0m \u001b[0;32mand\u001b[0m\u001b[0;31m \u001b[0m\u001b[0;31m\\\u001b[0m\u001b[0;34m\u001b[0m\u001b[0;34m\u001b[0m\u001b[0m\n",
      "\u001b[0;32m~/.local/lib/python3.6/site-packages/torch/utils/data/dataloader.py\u001b[0m in \u001b[0;36m_next_data\u001b[0;34m(self)\u001b[0m\n\u001b[1;32m   1184\u001b[0m \u001b[0;34m\u001b[0m\u001b[0m\n\u001b[1;32m   1185\u001b[0m             \u001b[0;32massert\u001b[0m \u001b[0;32mnot\u001b[0m \u001b[0mself\u001b[0m\u001b[0;34m.\u001b[0m\u001b[0m_shutdown\u001b[0m \u001b[0;32mand\u001b[0m \u001b[0mself\u001b[0m\u001b[0;34m.\u001b[0m\u001b[0m_tasks_outstanding\u001b[0m \u001b[0;34m>\u001b[0m \u001b[0;36m0\u001b[0m\u001b[0;34m\u001b[0m\u001b[0;34m\u001b[0m\u001b[0m\n\u001b[0;32m-> 1186\u001b[0;31m             \u001b[0midx\u001b[0m\u001b[0;34m,\u001b[0m \u001b[0mdata\u001b[0m \u001b[0;34m=\u001b[0m \u001b[0mself\u001b[0m\u001b[0;34m.\u001b[0m\u001b[0m_get_data\u001b[0m\u001b[0;34m(\u001b[0m\u001b[0;34m)\u001b[0m\u001b[0;34m\u001b[0m\u001b[0;34m\u001b[0m\u001b[0m\n\u001b[0m\u001b[1;32m   1187\u001b[0m             \u001b[0mself\u001b[0m\u001b[0;34m.\u001b[0m\u001b[0m_tasks_outstanding\u001b[0m \u001b[0;34m-=\u001b[0m \u001b[0;36m1\u001b[0m\u001b[0;34m\u001b[0m\u001b[0;34m\u001b[0m\u001b[0m\n\u001b[1;32m   1188\u001b[0m             \u001b[0;32mif\u001b[0m \u001b[0mself\u001b[0m\u001b[0;34m.\u001b[0m\u001b[0m_dataset_kind\u001b[0m \u001b[0;34m==\u001b[0m \u001b[0m_DatasetKind\u001b[0m\u001b[0;34m.\u001b[0m\u001b[0mIterable\u001b[0m\u001b[0;34m:\u001b[0m\u001b[0;34m\u001b[0m\u001b[0;34m\u001b[0m\u001b[0m\n",
      "\u001b[0;32m~/.local/lib/python3.6/site-packages/torch/utils/data/dataloader.py\u001b[0m in \u001b[0;36m_get_data\u001b[0;34m(self)\u001b[0m\n\u001b[1;32m   1150\u001b[0m         \u001b[0;32melse\u001b[0m\u001b[0;34m:\u001b[0m\u001b[0;34m\u001b[0m\u001b[0;34m\u001b[0m\u001b[0m\n\u001b[1;32m   1151\u001b[0m             \u001b[0;32mwhile\u001b[0m \u001b[0;32mTrue\u001b[0m\u001b[0;34m:\u001b[0m\u001b[0;34m\u001b[0m\u001b[0;34m\u001b[0m\u001b[0m\n\u001b[0;32m-> 1152\u001b[0;31m                 \u001b[0msuccess\u001b[0m\u001b[0;34m,\u001b[0m \u001b[0mdata\u001b[0m \u001b[0;34m=\u001b[0m \u001b[0mself\u001b[0m\u001b[0;34m.\u001b[0m\u001b[0m_try_get_data\u001b[0m\u001b[0;34m(\u001b[0m\u001b[0;34m)\u001b[0m\u001b[0;34m\u001b[0m\u001b[0;34m\u001b[0m\u001b[0m\n\u001b[0m\u001b[1;32m   1153\u001b[0m                 \u001b[0;32mif\u001b[0m \u001b[0msuccess\u001b[0m\u001b[0;34m:\u001b[0m\u001b[0;34m\u001b[0m\u001b[0;34m\u001b[0m\u001b[0m\n\u001b[1;32m   1154\u001b[0m                     \u001b[0;32mreturn\u001b[0m \u001b[0mdata\u001b[0m\u001b[0;34m\u001b[0m\u001b[0;34m\u001b[0m\u001b[0m\n",
      "\u001b[0;32m~/.local/lib/python3.6/site-packages/torch/utils/data/dataloader.py\u001b[0m in \u001b[0;36m_try_get_data\u001b[0;34m(self, timeout)\u001b[0m\n\u001b[1;32m    988\u001b[0m         \u001b[0;31m#   (bool: whether successfully get data, any: data if successful else None)\u001b[0m\u001b[0;34m\u001b[0m\u001b[0;34m\u001b[0m\u001b[0;34m\u001b[0m\u001b[0m\n\u001b[1;32m    989\u001b[0m         \u001b[0;32mtry\u001b[0m\u001b[0;34m:\u001b[0m\u001b[0;34m\u001b[0m\u001b[0;34m\u001b[0m\u001b[0m\n\u001b[0;32m--> 990\u001b[0;31m             \u001b[0mdata\u001b[0m \u001b[0;34m=\u001b[0m \u001b[0mself\u001b[0m\u001b[0;34m.\u001b[0m\u001b[0m_data_queue\u001b[0m\u001b[0;34m.\u001b[0m\u001b[0mget\u001b[0m\u001b[0;34m(\u001b[0m\u001b[0mtimeout\u001b[0m\u001b[0;34m=\u001b[0m\u001b[0mtimeout\u001b[0m\u001b[0;34m)\u001b[0m\u001b[0;34m\u001b[0m\u001b[0;34m\u001b[0m\u001b[0m\n\u001b[0m\u001b[1;32m    991\u001b[0m             \u001b[0;32mreturn\u001b[0m \u001b[0;34m(\u001b[0m\u001b[0;32mTrue\u001b[0m\u001b[0;34m,\u001b[0m \u001b[0mdata\u001b[0m\u001b[0;34m)\u001b[0m\u001b[0;34m\u001b[0m\u001b[0;34m\u001b[0m\u001b[0m\n\u001b[1;32m    992\u001b[0m         \u001b[0;32mexcept\u001b[0m \u001b[0mException\u001b[0m \u001b[0;32mas\u001b[0m \u001b[0me\u001b[0m\u001b[0;34m:\u001b[0m\u001b[0;34m\u001b[0m\u001b[0;34m\u001b[0m\u001b[0m\n",
      "\u001b[0;32m/usr/lib/python3.6/multiprocessing/queues.py\u001b[0m in \u001b[0;36mget\u001b[0;34m(self, block, timeout)\u001b[0m\n\u001b[1;32m    102\u001b[0m                 \u001b[0;32mif\u001b[0m \u001b[0mblock\u001b[0m\u001b[0;34m:\u001b[0m\u001b[0;34m\u001b[0m\u001b[0;34m\u001b[0m\u001b[0m\n\u001b[1;32m    103\u001b[0m                     \u001b[0mtimeout\u001b[0m \u001b[0;34m=\u001b[0m \u001b[0mdeadline\u001b[0m \u001b[0;34m-\u001b[0m \u001b[0mtime\u001b[0m\u001b[0;34m.\u001b[0m\u001b[0mmonotonic\u001b[0m\u001b[0;34m(\u001b[0m\u001b[0;34m)\u001b[0m\u001b[0;34m\u001b[0m\u001b[0;34m\u001b[0m\u001b[0m\n\u001b[0;32m--> 104\u001b[0;31m                     \u001b[0;32mif\u001b[0m \u001b[0;32mnot\u001b[0m \u001b[0mself\u001b[0m\u001b[0;34m.\u001b[0m\u001b[0m_poll\u001b[0m\u001b[0;34m(\u001b[0m\u001b[0mtimeout\u001b[0m\u001b[0;34m)\u001b[0m\u001b[0;34m:\u001b[0m\u001b[0;34m\u001b[0m\u001b[0;34m\u001b[0m\u001b[0m\n\u001b[0m\u001b[1;32m    105\u001b[0m                         \u001b[0;32mraise\u001b[0m \u001b[0mEmpty\u001b[0m\u001b[0;34m\u001b[0m\u001b[0;34m\u001b[0m\u001b[0m\n\u001b[1;32m    106\u001b[0m                 \u001b[0;32melif\u001b[0m \u001b[0;32mnot\u001b[0m \u001b[0mself\u001b[0m\u001b[0;34m.\u001b[0m\u001b[0m_poll\u001b[0m\u001b[0;34m(\u001b[0m\u001b[0;34m)\u001b[0m\u001b[0;34m:\u001b[0m\u001b[0;34m\u001b[0m\u001b[0;34m\u001b[0m\u001b[0m\n",
      "\u001b[0;32m/usr/lib/python3.6/multiprocessing/connection.py\u001b[0m in \u001b[0;36mpoll\u001b[0;34m(self, timeout)\u001b[0m\n\u001b[1;32m    255\u001b[0m         \u001b[0mself\u001b[0m\u001b[0;34m.\u001b[0m\u001b[0m_check_closed\u001b[0m\u001b[0;34m(\u001b[0m\u001b[0;34m)\u001b[0m\u001b[0;34m\u001b[0m\u001b[0;34m\u001b[0m\u001b[0m\n\u001b[1;32m    256\u001b[0m         \u001b[0mself\u001b[0m\u001b[0;34m.\u001b[0m\u001b[0m_check_readable\u001b[0m\u001b[0;34m(\u001b[0m\u001b[0;34m)\u001b[0m\u001b[0;34m\u001b[0m\u001b[0;34m\u001b[0m\u001b[0m\n\u001b[0;32m--> 257\u001b[0;31m         \u001b[0;32mreturn\u001b[0m \u001b[0mself\u001b[0m\u001b[0;34m.\u001b[0m\u001b[0m_poll\u001b[0m\u001b[0;34m(\u001b[0m\u001b[0mtimeout\u001b[0m\u001b[0;34m)\u001b[0m\u001b[0;34m\u001b[0m\u001b[0;34m\u001b[0m\u001b[0m\n\u001b[0m\u001b[1;32m    258\u001b[0m \u001b[0;34m\u001b[0m\u001b[0m\n\u001b[1;32m    259\u001b[0m     \u001b[0;32mdef\u001b[0m \u001b[0m__enter__\u001b[0m\u001b[0;34m(\u001b[0m\u001b[0mself\u001b[0m\u001b[0;34m)\u001b[0m\u001b[0;34m:\u001b[0m\u001b[0;34m\u001b[0m\u001b[0;34m\u001b[0m\u001b[0m\n",
      "\u001b[0;32m/usr/lib/python3.6/multiprocessing/connection.py\u001b[0m in \u001b[0;36m_poll\u001b[0;34m(self, timeout)\u001b[0m\n\u001b[1;32m    412\u001b[0m \u001b[0;34m\u001b[0m\u001b[0m\n\u001b[1;32m    413\u001b[0m     \u001b[0;32mdef\u001b[0m \u001b[0m_poll\u001b[0m\u001b[0;34m(\u001b[0m\u001b[0mself\u001b[0m\u001b[0;34m,\u001b[0m \u001b[0mtimeout\u001b[0m\u001b[0;34m)\u001b[0m\u001b[0;34m:\u001b[0m\u001b[0;34m\u001b[0m\u001b[0;34m\u001b[0m\u001b[0m\n\u001b[0;32m--> 414\u001b[0;31m         \u001b[0mr\u001b[0m \u001b[0;34m=\u001b[0m \u001b[0mwait\u001b[0m\u001b[0;34m(\u001b[0m\u001b[0;34m[\u001b[0m\u001b[0mself\u001b[0m\u001b[0;34m]\u001b[0m\u001b[0;34m,\u001b[0m \u001b[0mtimeout\u001b[0m\u001b[0;34m)\u001b[0m\u001b[0;34m\u001b[0m\u001b[0;34m\u001b[0m\u001b[0m\n\u001b[0m\u001b[1;32m    415\u001b[0m         \u001b[0;32mreturn\u001b[0m \u001b[0mbool\u001b[0m\u001b[0;34m(\u001b[0m\u001b[0mr\u001b[0m\u001b[0;34m)\u001b[0m\u001b[0;34m\u001b[0m\u001b[0;34m\u001b[0m\u001b[0m\n\u001b[1;32m    416\u001b[0m \u001b[0;34m\u001b[0m\u001b[0m\n",
      "\u001b[0;32m/usr/lib/python3.6/multiprocessing/connection.py\u001b[0m in \u001b[0;36mwait\u001b[0;34m(object_list, timeout)\u001b[0m\n\u001b[1;32m    909\u001b[0m \u001b[0;34m\u001b[0m\u001b[0m\n\u001b[1;32m    910\u001b[0m             \u001b[0;32mwhile\u001b[0m \u001b[0;32mTrue\u001b[0m\u001b[0;34m:\u001b[0m\u001b[0;34m\u001b[0m\u001b[0;34m\u001b[0m\u001b[0m\n\u001b[0;32m--> 911\u001b[0;31m                 \u001b[0mready\u001b[0m \u001b[0;34m=\u001b[0m \u001b[0mselector\u001b[0m\u001b[0;34m.\u001b[0m\u001b[0mselect\u001b[0m\u001b[0;34m(\u001b[0m\u001b[0mtimeout\u001b[0m\u001b[0;34m)\u001b[0m\u001b[0;34m\u001b[0m\u001b[0;34m\u001b[0m\u001b[0m\n\u001b[0m\u001b[1;32m    912\u001b[0m                 \u001b[0;32mif\u001b[0m \u001b[0mready\u001b[0m\u001b[0;34m:\u001b[0m\u001b[0;34m\u001b[0m\u001b[0;34m\u001b[0m\u001b[0m\n\u001b[1;32m    913\u001b[0m                     \u001b[0;32mreturn\u001b[0m \u001b[0;34m[\u001b[0m\u001b[0mkey\u001b[0m\u001b[0;34m.\u001b[0m\u001b[0mfileobj\u001b[0m \u001b[0;32mfor\u001b[0m \u001b[0;34m(\u001b[0m\u001b[0mkey\u001b[0m\u001b[0;34m,\u001b[0m \u001b[0mevents\u001b[0m\u001b[0;34m)\u001b[0m \u001b[0;32min\u001b[0m \u001b[0mready\u001b[0m\u001b[0;34m]\u001b[0m\u001b[0;34m\u001b[0m\u001b[0;34m\u001b[0m\u001b[0m\n",
      "\u001b[0;32m/usr/lib/python3.6/selectors.py\u001b[0m in \u001b[0;36mselect\u001b[0;34m(self, timeout)\u001b[0m\n\u001b[1;32m    374\u001b[0m             \u001b[0mready\u001b[0m \u001b[0;34m=\u001b[0m \u001b[0;34m[\u001b[0m\u001b[0;34m]\u001b[0m\u001b[0;34m\u001b[0m\u001b[0;34m\u001b[0m\u001b[0m\n\u001b[1;32m    375\u001b[0m             \u001b[0;32mtry\u001b[0m\u001b[0;34m:\u001b[0m\u001b[0;34m\u001b[0m\u001b[0;34m\u001b[0m\u001b[0m\n\u001b[0;32m--> 376\u001b[0;31m                 \u001b[0mfd_event_list\u001b[0m \u001b[0;34m=\u001b[0m \u001b[0mself\u001b[0m\u001b[0;34m.\u001b[0m\u001b[0m_poll\u001b[0m\u001b[0;34m.\u001b[0m\u001b[0mpoll\u001b[0m\u001b[0;34m(\u001b[0m\u001b[0mtimeout\u001b[0m\u001b[0;34m)\u001b[0m\u001b[0;34m\u001b[0m\u001b[0;34m\u001b[0m\u001b[0m\n\u001b[0m\u001b[1;32m    377\u001b[0m             \u001b[0;32mexcept\u001b[0m \u001b[0mInterruptedError\u001b[0m\u001b[0;34m:\u001b[0m\u001b[0;34m\u001b[0m\u001b[0;34m\u001b[0m\u001b[0m\n\u001b[1;32m    378\u001b[0m                 \u001b[0;32mreturn\u001b[0m \u001b[0mready\u001b[0m\u001b[0;34m\u001b[0m\u001b[0;34m\u001b[0m\u001b[0m\n",
      "\u001b[0;31mKeyboardInterrupt\u001b[0m: "
     ]
    }
   ],
   "source": [
    "for i, data in enumerate(loader):\n",
    "    obs, action, reward, terminal, next_obs = [arr for arr in data]\n",
    "    print(obs.size())\n",
    "    print(action.size())"
   ]
  },
  {
   "cell_type": "code",
   "execution_count": null,
   "metadata": {},
   "outputs": [],
   "source": [
    "print(terminal.size())"
   ]
  },
  {
   "cell_type": "code",
   "execution_count": null,
   "metadata": {},
   "outputs": [],
   "source": [
    "save_image(next_obs[0],'2.png')"
   ]
  },
  {
   "cell_type": "code",
   "execution_count": null,
   "metadata": {},
   "outputs": [],
   "source": [
    "save_image(obs[0],'1.png')"
   ]
  },
  {
   "cell_type": "code",
   "execution_count": null,
   "metadata": {},
   "outputs": [],
   "source": []
  }
 ],
 "metadata": {
  "kernelspec": {
   "display_name": "Python 3",
   "language": "python",
   "name": "python3"
  },
  "language_info": {
   "codemirror_mode": {
    "name": "ipython",
    "version": 3
   },
   "file_extension": ".py",
   "mimetype": "text/x-python",
   "name": "python",
   "nbconvert_exporter": "python",
   "pygments_lexer": "ipython3",
   "version": "3.6.9"
  }
 },
 "nbformat": 4,
 "nbformat_minor": 2
}
